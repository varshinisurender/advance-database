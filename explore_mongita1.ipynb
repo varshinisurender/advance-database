{
  "nbformat": 4,
  "nbformat_minor": 0,
  "metadata": {
    "colab": {
      "provenance": [],
      "authorship_tag": "ABX9TyOMjuRy054dH9zqVO2szZtl",
      "include_colab_link": true
    },
    "kernelspec": {
      "name": "python3",
      "display_name": "Python 3"
    },
    "language_info": {
      "name": "python"
    }
  },
  "cells": [
    {
      "cell_type": "markdown",
      "metadata": {
        "id": "view-in-github",
        "colab_type": "text"
      },
      "source": [
        "<a href=\"https://colab.research.google.com/github/varshinisurender/advance-database/blob/main/explore_mongita1.ipynb\" target=\"_parent\"><img src=\"https://colab.research.google.com/assets/colab-badge.svg\" alt=\"Open In Colab\"/></a>"
      ]
    },
    {
      "cell_type": "code",
      "execution_count": 1,
      "metadata": {
        "colab": {
          "base_uri": "https://localhost:8080/"
        },
        "id": "PlvLOy9KsaSw",
        "outputId": "3b381ff8-6f0c-439b-b4c9-2c1ab2b310c3"
      },
      "outputs": [
        {
          "output_type": "stream",
          "name": "stdout",
          "text": [
            "Looking in indexes: https://pypi.org/simple, https://us-python.pkg.dev/colab-wheels/public/simple/\n",
            "Collecting mongita\n",
            "  Downloading mongita-1.1.1.tar.gz (54 kB)\n",
            "\u001b[K     |████████████████████████████████| 54 kB 684 kB/s \n",
            "\u001b[?25hCollecting pymongo<4.0,>=3.0\n",
            "  Downloading pymongo-3.13.0-cp37-cp37m-manylinux_2_17_x86_64.manylinux2014_x86_64.whl (506 kB)\n",
            "\u001b[K     |████████████████████████████████| 506 kB 13.6 MB/s \n",
            "\u001b[?25hRequirement already satisfied: sortedcontainers<3.0,>=2.3 in /usr/local/lib/python3.7/dist-packages (from mongita) (2.4.0)\n",
            "Building wheels for collected packages: mongita\n",
            "  Building wheel for mongita (setup.py) ... \u001b[?25l\u001b[?25hdone\n",
            "  Created wheel for mongita: filename=mongita-1.1.1-py3-none-any.whl size=61248 sha256=2838031c8827bb58aa680d3f58ea0c0adb75143f84b5a0d71a4c5b834371d61b\n",
            "  Stored in directory: /root/.cache/pip/wheels/6b/fb/e6/fda89afd9d25c228da1fb5f7ea6caa4297c7b00cb23e91c0f9\n",
            "Successfully built mongita\n",
            "Installing collected packages: pymongo, mongita\n",
            "  Attempting uninstall: pymongo\n",
            "    Found existing installation: pymongo 4.3.2\n",
            "    Uninstalling pymongo-4.3.2:\n",
            "      Successfully uninstalled pymongo-4.3.2\n",
            "Successfully installed mongita-1.1.1 pymongo-3.13.0\n"
          ]
        }
      ],
      "source": [
        "pip install mongita"
      ]
    },
    {
      "cell_type": "code",
      "source": [
        "from mongita import MongitaClientDisk\n",
        "client = MongitaClientDisk()"
      ],
      "metadata": {
        "id": "MWkJcNtysfPR"
      },
      "execution_count": 4,
      "outputs": []
    },
    {
      "cell_type": "code",
      "source": [
        "from bson.objectid import ObjectId"
      ],
      "metadata": {
        "id": "eOYelo67tz6j"
      },
      "execution_count": null,
      "outputs": []
    },
    {
      "cell_type": "code",
      "source": [
        "hello_world_db = client.hello_world_db\n",
        "mongoose_collection = hello_world_db.mongoose_collection\n",
        "mongoose_collection.insert_many([{'name':'micky','does not eats':'idly'},\n",
        "                                 {'name':'nicky','eats':'idly'}])"
      ],
      "metadata": {
        "colab": {
          "base_uri": "https://localhost:8080/"
        },
        "id": "YWSC2QyQvyHS",
        "outputId": "b42d7567-30f6-47a0-d54e-2705c8013acd"
      },
      "execution_count": 6,
      "outputs": [
        {
          "output_type": "execute_result",
          "data": {
            "text/plain": [
              "<mongita.results.InsertManyResult at 0x7fca9ad25c10>"
            ]
          },
          "metadata": {},
          "execution_count": 6
        }
      ]
    },
    {
      "cell_type": "code",
      "source": [
        "mongoose_collection.count_documents({})"
      ],
      "metadata": {
        "colab": {
          "base_uri": "https://localhost:8080/"
        },
        "id": "UTSGSszTwsry",
        "outputId": "7ab0ccb5-c026-44fb-9581-e6a060bb58bd"
      },
      "execution_count": 7,
      "outputs": [
        {
          "output_type": "execute_result",
          "data": {
            "text/plain": [
              "4"
            ]
          },
          "metadata": {},
          "execution_count": 7
        }
      ]
    },
    {
      "cell_type": "code",
      "source": [
        "list(mongoose_collection.find({'name':'micky'}))"
      ],
      "metadata": {
        "colab": {
          "base_uri": "https://localhost:8080/"
        },
        "id": "7hoohWEEwshU",
        "outputId": "d59bac08-7049-4c56-c08b-82e4ffe760bd"
      },
      "execution_count": 9,
      "outputs": [
        {
          "output_type": "execute_result",
          "data": {
            "text/plain": [
              "[{'name': 'micky',\n",
              "  'does not eat': 'snakes',\n",
              "  '_id': ObjectId('636861dc1346316c0433359f')},\n",
              " {'name': 'micky',\n",
              "  'does not eats': 'idly',\n",
              "  '_id': ObjectId('636862ed1346316c043335a3')}]"
            ]
          },
          "metadata": {},
          "execution_count": 9
        }
      ]
    },
    {
      "cell_type": "code",
      "source": [
        "mongoose_collection.update_one({'name':'micky'},{'$set':{\"weight\":2}})"
      ],
      "metadata": {
        "colab": {
          "base_uri": "https://localhost:8080/"
        },
        "id": "gM8TxIrfxx8d",
        "outputId": "5e56e660-c2ec-434c-8e21-263e13cb02c1"
      },
      "execution_count": 10,
      "outputs": [
        {
          "output_type": "execute_result",
          "data": {
            "text/plain": [
              "<mongita.results.UpdateResult at 0x7fca9acdb750>"
            ]
          },
          "metadata": {},
          "execution_count": 10
        }
      ]
    },
    {
      "cell_type": "code",
      "source": [
        "list(mongoose_collection.find({\"weight\":{\"$gt\": 1}}))"
      ],
      "metadata": {
        "colab": {
          "base_uri": "https://localhost:8080/"
        },
        "id": "-jSybbEDyYja",
        "outputId": "4e8890d5-fbbe-4aec-e4b3-511c741f4b96"
      },
      "execution_count": 11,
      "outputs": [
        {
          "output_type": "execute_result",
          "data": {
            "text/plain": [
              "[{'name': 'micky',\n",
              "  'does not eat': 'snakes',\n",
              "  '_id': ObjectId('636861dc1346316c0433359f'),\n",
              "  'weight': 2}]"
            ]
          },
          "metadata": {},
          "execution_count": 11
        }
      ]
    },
    {
      "cell_type": "code",
      "source": [
        "mongoose_collection.update_one({'weight':{'$gt':1}},{'$set':{\"weight\":4}})"
      ],
      "metadata": {
        "colab": {
          "base_uri": "https://localhost:8080/"
        },
        "id": "1vmwMny6yvJj",
        "outputId": "5875540f-76af-4e98-c3b0-b3051ad498d8"
      },
      "execution_count": 13,
      "outputs": [
        {
          "output_type": "execute_result",
          "data": {
            "text/plain": [
              "<mongita.results.UpdateResult at 0x7fca9ac52b50>"
            ]
          },
          "metadata": {},
          "execution_count": 13
        }
      ]
    }
  ]
}